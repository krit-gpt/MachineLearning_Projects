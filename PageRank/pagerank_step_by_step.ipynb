{
 "cells": [
  {
   "cell_type": "code",
   "execution_count": 99,
   "metadata": {
    "scrolled": true
   },
   "outputs": [],
   "source": [
    "# parameters\n",
    "d = 0.75"
   ]
  },
  {
   "cell_type": "code",
   "execution_count": 100,
   "metadata": {
    "scrolled": true
   },
   "outputs": [],
   "source": [
    "import numpy as np\n",
    "\n",
    "LinkMatrix = np.matrix(( (0.0, 0.0, 1.0, 0.0, 0.0, 0.0), \n",
    "                         (0.5, 0.0, 0.5, 0.0, 0.0, 0.0), \n",
    "                         (0.0, 0.0, 0.0, 0.5, 0.5, 0.0),\n",
    "                         (0.0, 0.0, 0.0, 0.0, 1.0, 0.0), \n",
    "                         (0.0, 1.0, 0.0, 0.0, 0.0, 0.0), \n",
    "                         (0.0, 0.0, 0.0, 0.0, 1.0, 0.0)))  "
   ]
  },
  {
   "cell_type": "code",
   "execution_count": 101,
   "metadata": {
    "scrolled": true
   },
   "outputs": [],
   "source": [
    "Teleport = np.matrix(( (1./6, 1./6, 1./6, 1./6, 1./6, 1./6),\n",
    "                       (1./6, 1./6, 1./6, 1./6, 1./6, 1./6),\n",
    "                       (1./6, 1./6, 1./6, 1./6, 1./6, 1./6),\n",
    "                       (1./6, 1./6, 1./6, 1./6, 1./6, 1./6),\n",
    "                       (1./6, 1./6, 1./6, 1./6, 1./6, 1./6),\n",
    "                       (1./6, 1./6, 1./6, 1./6, 1./6, 1./6) ))"
   ]
  },
  {
   "cell_type": "code",
   "execution_count": 102,
   "metadata": {
    "scrolled": true
   },
   "outputs": [
    {
     "name": "stdout",
     "output_type": "stream",
     "text": [
      "[[0.04166667 0.04166667 0.79166667 0.04166667 0.04166667 0.04166667]\n",
      " [0.41666667 0.04166667 0.41666667 0.04166667 0.04166667 0.04166667]\n",
      " [0.04166667 0.04166667 0.04166667 0.41666667 0.41666667 0.04166667]\n",
      " [0.04166667 0.04166667 0.04166667 0.04166667 0.79166667 0.04166667]\n",
      " [0.04166667 0.79166667 0.04166667 0.04166667 0.04166667 0.04166667]\n",
      " [0.04166667 0.04166667 0.04166667 0.04166667 0.79166667 0.04166667]]\n"
     ]
    }
   ],
   "source": [
    "T = np.add (d * LinkMatrix, (1-d) * Teleport)\n",
    "print T"
   ]
  },
  {
   "cell_type": "code",
   "execution_count": 103,
   "metadata": {
    "scrolled": true
   },
   "outputs": [],
   "source": [
    "x = [0.1, 0.1, 0.2, 0.3, 0.1, 0.2]"
   ]
  },
  {
   "cell_type": "code",
   "execution_count": 104,
   "metadata": {
    "scrolled": false
   },
   "outputs": [
    {
     "name": "stdout",
     "output_type": "stream",
     "text": [
      "[[0.07916667 0.11666667 0.15416667 0.11666667 0.49166667 0.04166667]]\n"
     ]
    }
   ],
   "source": [
    "x_new = x*T\n",
    "print x_new\n",
    "x = x_new"
   ]
  },
  {
   "cell_type": "markdown",
   "metadata": {},
   "source": [
    "[[0.1278135  0.22999909 0.22370046 0.12563996 0.25118032 0.04166667]]\n",
    "[[0.12780929 0.22929607 0.22420761 0.12589919 0.25112117 0.04166667]]\n",
    "[[0.12776753 0.23043212 0.22334958 0.12550962 0.25127449 0.04166667]]\n"
   ]
  },
  {
   "cell_type": "code",
   "execution_count": 105,
   "metadata": {
    "scrolled": true
   },
   "outputs": [
    {
     "name": "stdout",
     "output_type": "stream",
     "text": [
      "[[0.25  0.    0.75  0.    0.    0.   ]\n",
      " [0.625 0.    0.375 0.    0.    0.   ]\n",
      " [0.25  0.    0.    0.375 0.375 0.   ]\n",
      " [0.25  0.    0.    0.    0.75  0.   ]\n",
      " [0.25  0.75  0.    0.    0.    0.   ]\n",
      " [0.25  0.    0.    0.    0.75  0.   ]]\n"
     ]
    }
   ],
   "source": [
    "SportsTeleport = np.matrix(( (0.4, 0.4, 0.05, 0.05, 0.05, 0.05),\n",
    "                             (1., 0., 0., 0., 0., 0.),\n",
    "                             (1., 0., 0., 0., 0., 0.),\n",
    "                             (1., 0., 0., 0., 0., 0.),\n",
    "                             (1., 0., 0., 0., 0., 0.),\n",
    "                             (1., 0., 0., 0., 0., 0.) ))\n",
    "\n",
    "T_sports = np.add (d * LinkMatrix, (1-d) * SportsTeleport)\n",
    "print T_sports"
   ]
  },
  {
   "cell_type": "code",
   "execution_count": 106,
   "metadata": {
    "scrolled": true
   },
   "outputs": [],
   "source": [
    "x_sports = [0.2, 0.2, 0.2, 0.2, 0.1, 0.1]"
   ]
  },
  {
   "cell_type": "code",
   "execution_count": 109,
   "metadata": {
    "scrolled": true
   },
   "outputs": [
    {
     "name": "stdout",
     "output_type": "stream",
     "text": [
      "[[0.325 0.075 0.225 0.075 0.3   0.   ]]\n"
     ]
    }
   ],
   "source": [
    "x_sports_new = x_sports*T_sports\n",
    "print x_sports_new\n",
    "x = x_sports_new"
   ]
  },
  {
   "cell_type": "code",
   "execution_count": null,
   "metadata": {
    "scrolled": true
   },
   "outputs": [],
   "source": []
  }
 ],
 "metadata": {
  "kernelspec": {
   "display_name": "Python 2",
   "language": "python",
   "name": "python2"
  },
  "language_info": {
   "codemirror_mode": {
    "name": "ipython",
    "version": 2
   },
   "file_extension": ".py",
   "mimetype": "text/x-python",
   "name": "python",
   "nbconvert_exporter": "python",
   "pygments_lexer": "ipython2",
   "version": "2.7.14"
  }
 },
 "nbformat": 4,
 "nbformat_minor": 2
}
